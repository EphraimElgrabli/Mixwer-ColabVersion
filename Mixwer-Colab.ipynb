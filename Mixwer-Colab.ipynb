{
  "nbformat": 4,
  "nbformat_minor": 0,
  "metadata": {
    "colab": {
      "provenance": [],
      "include_colab_link": true
    },
    "kernelspec": {
      "name": "python3",
      "display_name": "Python 3"
    },
    "language_info": {
      "name": "python"
    }
  },
  "cells": [
    {
      "cell_type": "markdown",
      "metadata": {
        "id": "view-in-github",
        "colab_type": "text"
      },
      "source": [
        "<a href=\"https://colab.research.google.com/github/EphraimElgrabli/Mixwer-ColabVersion/blob/main/Mixwer-Colab.ipynb\" target=\"_parent\"><img src=\"https://colab.research.google.com/assets/colab-badge.svg\" alt=\"Open In Colab\"/></a>"
      ]
    },
    {
      "cell_type": "markdown",
      "source": [
        "# **Mixwer By Ozde - Colab Version Made By Claude.**\n",
        "* 🙂 Debugged By Ephraim Elgrabli 🎩*"
      ],
      "metadata": {
        "id": "LuXbbtp7EHrQ"
      }
    },
    {
      "cell_type": "markdown",
      "source": [
        "--------------------------------------"
      ],
      "metadata": {
        "id": "YuUMHohEEqMK"
      }
    },
    {
      "cell_type": "markdown",
      "source": [
        "## **Step 1: Run this cell to install all the necassry library.**"
      ],
      "metadata": {
        "id": "v4yogO6_EsgI"
      }
    },
    {
      "cell_type": "code",
      "execution_count": null,
      "metadata": {
        "id": "install_dependencies"
      },
      "outputs": [],
      "source": [
        "!pip install pdf2image\n",
        "!pip install pillow\n",
        "!pip install opencv-python\n",
        "!pip install pytesseract\n",
        "!pip install numpy\n",
        "!pip install PyPDF4\n",
        "!apt-get install -y poppler-utils\n",
        "!apt-get install -y tesseract-ocr\n",
        "!apt-get install -y tesseract-ocr-heb\n",
        "!wget https://github.com/tesseract-ocr/tessdata/raw/main/heb.traineddata\n",
        "!mv heb.traineddata /usr/share/tesseract-ocr/4.00/tessdata/\n",
        "!rm -rf Mixwer\n",
        "!git clone https://github.com/EphraimElgrabli/Mixwer-ColabVersion.git\n",
        "!cd Mixwer-ColabVersion/\n",
        "!mkdir Images"
      ]
    },
    {
      "cell_type": "markdown",
      "source": [
        "## Step 2 - run this cell."
      ],
      "metadata": {
        "id": "6PGEgcm-Ekxt"
      }
    },
    {
      "cell_type": "code",
      "source": [
        "#@title Just Click Play.\n",
        "import os\n",
        "from google.colab import files\n",
        "from pdf2image import convert_from_path\n",
        "import pytesseract\n",
        "from datetime import datetime\n",
        "os.chdir('/content')\n",
        "os.chdir('/content/Mixwer-ColabVersion')\n",
        "from Logicalscripts import *\n",
        "from FunctionalScripts import *\n",
        "output_directory = \"/content/Mixwer-ColabVersion/Images/\"\n",
        "pytesseract.pytesseract.tesseract_cmd = '/usr/bin/tesseract'\n",
        "def upload_files():\n",
        "    uploaded = files.upload()\n",
        "    file_paths = list(uploaded.keys())\n",
        "    return file_paths\n",
        "\n",
        "def download_zip(zip_path):\n",
        "    files.download(zip_path)\n",
        "\n",
        "# Call the main function to handle file uploads and processing\n",
        "def main():\n",
        "\n",
        "    print(\"Please upload the PDF files:\")\n",
        "    file_paths = upload_files()\n",
        "\n",
        "    successPdf = []\n",
        "    failPdf = []\n",
        "\n",
        "    for pdf_file_path in file_paths:\n",
        "        path_original_pdf = pdf_file_path\n",
        "        fileNameEnd = path_original_pdf[path_original_pdf.rfind(\"/\") + 1:-4] + \" מעורבל\" + path_original_pdf[-4:]\n",
        "\n",
        "        try:\n",
        "            # Convert test .pdf to page.png\n",
        "            path_originial_pages_png = functionalFiles.pdf_to_png(path_original_pdf, output_directory)\n",
        "\n",
        "            # Merge the pages\n",
        "            pathOfMerge = functionalFiles.combineFiles(path_originial_pages_png, output_directory + 'result')\n",
        "\n",
        "            # Find how much q and a there are\n",
        "            # make each q to .png\n",
        "            arrayOfQuestions, numQ = exportPng.export_questions(path_originial_pages_png, output_directory)\n",
        "            print(\"Success export Q\\n\")\n",
        "\n",
        "            # make each a to .png\n",
        "            for pathQ in arrayOfQuestions:\n",
        "                answersId = logicalList.findNumAnswers(pathQ)\n",
        "                exportPng.export_answers(pathQ, answersId, output_directory)\n",
        "                print(\"Success export A in Q {}\\n\".format(pathQ))\n",
        "\n",
        "            # crop each a\n",
        "            logicalPng.cropAnswers()\n",
        "            print(\"Success Croping\\n\")\n",
        "\n",
        "            # Mix the order of the answer\n",
        "            mixAnswers = logicalList.mixfiles()\n",
        "            print(\"Success Mixing\\n\")\n",
        "\n",
        "            # Make answers and questions to pages .png\n",
        "            paths_of_pages = logicalPng.combineFilestoPages(mixAnswers, output_directory)\n",
        "            print(\"Success final pages\\n\")\n",
        "\n",
        "            # Add answers page\n",
        "            answer_page_path, path_answers = logicalPng.createAnswersPage(mixAnswers)\n",
        "            paths_of_pages = paths_of_pages + answer_page_path\n",
        "            print(\"Success answer page\\n\")\n",
        "\n",
        "            # Make .png to .pdf\n",
        "            paths_of_pages_pdf = []\n",
        "            for current_page in paths_of_pages:\n",
        "                paths_of_pages_pdf.append(functionalFiles.png_to_pdf(current_page))\n",
        "            print(\"Success convert pages to.pdf\\n\")\n",
        "\n",
        "            ouput_pdf_path = \"/content/Mixwer-ColabVersion/FinalPDFs/\" + path_original_pdf[path_original_pdf.rfind(\"/\") + 1:-4] + \" מעורבל\"\n",
        "            functionalFiles.merge_pdf(paths_of_pages_pdf, ouput_pdf_path)\n",
        "            print(\"Success merge pages\\n\")\n",
        "\n",
        "            functionalFiles.delete_files(tuple(functionalFiles.getFilesPaths()[0] + B for B in functionalFiles.getFilesPaths()[1]))\n",
        "\n",
        "            successPdf.append(ouput_pdf_path + \".pdf\")\n",
        "            print(\"SUCCESS {}\".format(fileNameEnd))\n",
        "        except Exception as e:\n",
        "            print(\"NOT SUCCESS {}\".format(fileNameEnd) + \" ERROR: \", e)\n",
        "            failPdf.append(pdf_file_path)\n",
        "\n",
        "    if successPdf:\n",
        "        current_datetime = datetime.now()\n",
        "        datetime_string = current_datetime.strftime(\"%Y-%m-%d_%H-%M-%S\")\n",
        "        zip_path = f\"Mixwer - {datetime_string}.zip\"\n",
        "        functionalFiles.zipPdf(successPdf, zip_path)\n",
        "        print(f\"ZIP file created: {zip_path}\")\n",
        "        print(\"Downloading the ZIP file...\")\n",
        "        download_zip(zip_path)\n",
        "    else:\n",
        "        print(\"No successful PDFs processed.\")\n",
        "\n",
        "    return successPdf, bool(successPdf)\n",
        "\n",
        "if __name__ == \"__main__\":\n",
        "    main()"
      ],
      "metadata": {
        "id": "main_function"
      },
      "execution_count": null,
      "outputs": []
    },
    {
      "cell_type": "code",
      "source": [],
      "metadata": {
        "id": "xVWPGmPLL693"
      },
      "execution_count": null,
      "outputs": []
    }
  ]
}