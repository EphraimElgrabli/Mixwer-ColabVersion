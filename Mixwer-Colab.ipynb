{
  "nbformat": 4,
  "nbformat_minor": 0,
  "metadata": {
    "colab": {
      "provenance": [],
      "include_colab_link": true
    },
    "kernelspec": {
      "name": "python3",
      "display_name": "Python 3"
    },
    "language_info": {
      "name": "python"
    }
  },
  "cells": [
    {
      "cell_type": "markdown",
      "metadata": {
        "id": "view-in-github",
        "colab_type": "text"
      },
      "source": [
        "<a href=\"https://colab.research.google.com/github/EphraimElgrabli/Mixwer-ColabVersion/blob/main/Mixwer-Colab.ipynb\" target=\"_parent\"><img src=\"https://colab.research.google.com/assets/colab-badge.svg\" alt=\"Open In Colab\"/></a>"
      ]
    },
    {
      "cell_type": "markdown",
      "source": [
        "# **Mixwer By Ozde - Colab Version.**\n",
        "| 🙂 Made By Ephraim Elgrabli (z1k0) & claude (sounslikeafrenchguy) 🎩 |"
      ],
      "metadata": {
        "id": "LuXbbtp7EHrQ"
      }
    },
    {
      "cell_type": "markdown",
      "source": [
        "--------------------------------------\n",
        "--------------------------------------"
      ],
      "metadata": {
        "id": "YuUMHohEEqMK"
      }
    },
    {
      "cell_type": "markdown",
      "source": [
        "## **Step 1: Run this cell to install all the necassry library.**\n",
        "##לחץ על כפתור הפליי, פליז אל תגידו לי שאתם מסתבכים, פשוט ללחוץ"
      ],
      "metadata": {
        "id": "v4yogO6_EsgI"
      }
    },
    {
      "cell_type": "code",
      "execution_count": 1,
      "metadata": {
        "id": "install_dependencies",
        "outputId": "39fe3c6d-cc5b-4ab4-de73-1e79ca2ba30c",
        "colab": {
          "base_uri": "https://localhost:8080/"
        }
      },
      "outputs": [
        {
          "output_type": "stream",
          "name": "stdout",
          "text": [
            "Collecting pdf2image\n",
            "  Downloading pdf2image-1.17.0-py3-none-any.whl (11 kB)\n",
            "Requirement already satisfied: pillow in /usr/local/lib/python3.10/dist-packages (from pdf2image) (9.4.0)\n",
            "Installing collected packages: pdf2image\n",
            "Successfully installed pdf2image-1.17.0\n",
            "Requirement already satisfied: pillow in /usr/local/lib/python3.10/dist-packages (9.4.0)\n",
            "Requirement already satisfied: opencv-python in /usr/local/lib/python3.10/dist-packages (4.8.0.76)\n",
            "Requirement already satisfied: numpy>=1.21.2 in /usr/local/lib/python3.10/dist-packages (from opencv-python) (1.25.2)\n",
            "Collecting pytesseract\n",
            "  Downloading pytesseract-0.3.10-py3-none-any.whl (14 kB)\n",
            "Requirement already satisfied: packaging>=21.3 in /usr/local/lib/python3.10/dist-packages (from pytesseract) (24.0)\n",
            "Requirement already satisfied: Pillow>=8.0.0 in /usr/local/lib/python3.10/dist-packages (from pytesseract) (9.4.0)\n",
            "Installing collected packages: pytesseract\n",
            "Successfully installed pytesseract-0.3.10\n",
            "Requirement already satisfied: numpy in /usr/local/lib/python3.10/dist-packages (1.25.2)\n",
            "Collecting PyPDF4\n",
            "  Downloading PyPDF4-1.27.0.tar.gz (63 kB)\n",
            "\u001b[2K     \u001b[90m━━━━━━━━━━━━━━━━━━━━━━━━━━━━━━━━━━━━━━━━\u001b[0m \u001b[32m63.9/63.9 kB\u001b[0m \u001b[31m2.0 MB/s\u001b[0m eta \u001b[36m0:00:00\u001b[0m\n",
            "\u001b[?25h  Preparing metadata (setup.py) ... \u001b[?25l\u001b[?25hdone\n",
            "Building wheels for collected packages: PyPDF4\n",
            "  Building wheel for PyPDF4 (setup.py) ... \u001b[?25l\u001b[?25hdone\n",
            "  Created wheel for PyPDF4: filename=PyPDF4-1.27.0-py3-none-any.whl size=61226 sha256=9947107fb31a0e360032361678dd506f7779a716c0b304a4da66cb85d2aca60b\n",
            "  Stored in directory: /root/.cache/pip/wheels/83/cc/14/cb307e5c99235c4497c7895cdb60b4f7ba2a738b6a5fc0d423\n",
            "Successfully built PyPDF4\n",
            "Installing collected packages: PyPDF4\n",
            "Successfully installed PyPDF4-1.27.0\n",
            "Reading package lists... Done\n",
            "Building dependency tree... Done\n",
            "Reading state information... Done\n",
            "The following NEW packages will be installed:\n",
            "  poppler-utils\n",
            "0 upgraded, 1 newly installed, 0 to remove and 38 not upgraded.\n",
            "Need to get 186 kB of archives.\n",
            "After this operation, 696 kB of additional disk space will be used.\n",
            "Get:1 http://archive.ubuntu.com/ubuntu jammy-updates/main amd64 poppler-utils amd64 22.02.0-2ubuntu0.3 [186 kB]\n",
            "Fetched 186 kB in 0s (1,769 kB/s)\n",
            "Selecting previously unselected package poppler-utils.\n",
            "(Reading database ... 121752 files and directories currently installed.)\n",
            "Preparing to unpack .../poppler-utils_22.02.0-2ubuntu0.3_amd64.deb ...\n",
            "Unpacking poppler-utils (22.02.0-2ubuntu0.3) ...\n",
            "Setting up poppler-utils (22.02.0-2ubuntu0.3) ...\n",
            "Processing triggers for man-db (2.10.2-1) ...\n",
            "Reading package lists... Done\n",
            "Building dependency tree... Done\n",
            "Reading state information... Done\n",
            "The following additional packages will be installed:\n",
            "  tesseract-ocr-eng tesseract-ocr-osd\n",
            "The following NEW packages will be installed:\n",
            "  tesseract-ocr tesseract-ocr-eng tesseract-ocr-osd\n",
            "0 upgraded, 3 newly installed, 0 to remove and 38 not upgraded.\n",
            "Need to get 4,816 kB of archives.\n",
            "After this operation, 15.6 MB of additional disk space will be used.\n",
            "Get:1 http://archive.ubuntu.com/ubuntu jammy/universe amd64 tesseract-ocr-eng all 1:4.00~git30-7274cfa-1.1 [1,591 kB]\n",
            "Get:2 http://archive.ubuntu.com/ubuntu jammy/universe amd64 tesseract-ocr-osd all 1:4.00~git30-7274cfa-1.1 [2,990 kB]\n",
            "Get:3 http://archive.ubuntu.com/ubuntu jammy/universe amd64 tesseract-ocr amd64 4.1.1-2.1build1 [236 kB]\n",
            "Fetched 4,816 kB in 0s (26.6 MB/s)\n",
            "Selecting previously unselected package tesseract-ocr-eng.\n",
            "(Reading database ... 121782 files and directories currently installed.)\n",
            "Preparing to unpack .../tesseract-ocr-eng_1%3a4.00~git30-7274cfa-1.1_all.deb ...\n",
            "Unpacking tesseract-ocr-eng (1:4.00~git30-7274cfa-1.1) ...\n",
            "Selecting previously unselected package tesseract-ocr-osd.\n",
            "Preparing to unpack .../tesseract-ocr-osd_1%3a4.00~git30-7274cfa-1.1_all.deb ...\n",
            "Unpacking tesseract-ocr-osd (1:4.00~git30-7274cfa-1.1) ...\n",
            "Selecting previously unselected package tesseract-ocr.\n",
            "Preparing to unpack .../tesseract-ocr_4.1.1-2.1build1_amd64.deb ...\n",
            "Unpacking tesseract-ocr (4.1.1-2.1build1) ...\n",
            "Setting up tesseract-ocr-eng (1:4.00~git30-7274cfa-1.1) ...\n",
            "Setting up tesseract-ocr-osd (1:4.00~git30-7274cfa-1.1) ...\n",
            "Setting up tesseract-ocr (4.1.1-2.1build1) ...\n",
            "Processing triggers for man-db (2.10.2-1) ...\n",
            "Reading package lists... Done\n",
            "Building dependency tree... Done\n",
            "Reading state information... Done\n",
            "The following NEW packages will be installed:\n",
            "  tesseract-ocr-heb\n",
            "0 upgraded, 1 newly installed, 0 to remove and 38 not upgraded.\n",
            "Need to get 432 kB of archives.\n",
            "After this operation, 976 kB of additional disk space will be used.\n",
            "Get:1 http://archive.ubuntu.com/ubuntu jammy/universe amd64 tesseract-ocr-heb all 1:4.00~git30-7274cfa-1.1 [432 kB]\n",
            "Fetched 432 kB in 0s (3,917 kB/s)\n",
            "Selecting previously unselected package tesseract-ocr-heb.\n",
            "(Reading database ... 121829 files and directories currently installed.)\n",
            "Preparing to unpack .../tesseract-ocr-heb_1%3a4.00~git30-7274cfa-1.1_all.deb ...\n",
            "Unpacking tesseract-ocr-heb (1:4.00~git30-7274cfa-1.1) ...\n",
            "Setting up tesseract-ocr-heb (1:4.00~git30-7274cfa-1.1) ...\n",
            "--2024-03-20 12:19:29--  https://github.com/tesseract-ocr/tessdata/raw/main/heb.traineddata\n",
            "Resolving github.com (github.com)... 140.82.113.4\n",
            "Connecting to github.com (github.com)|140.82.113.4|:443... connected.\n",
            "HTTP request sent, awaiting response... 302 Found\n",
            "Location: https://raw.githubusercontent.com/tesseract-ocr/tessdata/main/heb.traineddata [following]\n",
            "--2024-03-20 12:19:30--  https://raw.githubusercontent.com/tesseract-ocr/tessdata/main/heb.traineddata\n",
            "Resolving raw.githubusercontent.com (raw.githubusercontent.com)... 185.199.108.133, 185.199.111.133, 185.199.110.133, ...\n",
            "Connecting to raw.githubusercontent.com (raw.githubusercontent.com)|185.199.108.133|:443... connected.\n",
            "HTTP request sent, awaiting response... 200 OK\n",
            "Length: 5413459 (5.2M) [application/octet-stream]\n",
            "Saving to: ‘heb.traineddata’\n",
            "\n",
            "heb.traineddata     100%[===================>]   5.16M  --.-KB/s    in 0.02s   \n",
            "\n",
            "2024-03-20 12:19:30 (232 MB/s) - ‘heb.traineddata’ saved [5413459/5413459]\n",
            "\n",
            "Cloning into 'Mixwer-ColabVersion'...\n",
            "remote: Enumerating objects: 204, done.\u001b[K\n",
            "remote: Counting objects: 100% (204/204), done.\u001b[K\n",
            "remote: Compressing objects: 100% (134/134), done.\u001b[K\n",
            "remote: Total 204 (delta 88), reused 157 (delta 62), pack-reused 0\u001b[K\n",
            "Receiving objects: 100% (204/204), 4.98 MiB | 29.68 MiB/s, done.\n",
            "Resolving deltas: 100% (88/88), done.\n"
          ]
        }
      ],
      "source": [
        "!pip install pdf2image\n",
        "!pip install pillow\n",
        "!pip install opencv-python\n",
        "!pip install pytesseract\n",
        "!pip install numpy\n",
        "!pip install PyPDF4\n",
        "!apt-get install -y poppler-utils\n",
        "!apt-get install -y tesseract-ocr\n",
        "!apt-get install -y tesseract-ocr-heb\n",
        "!wget https://github.com/tesseract-ocr/tessdata/raw/main/heb.traineddata\n",
        "!mv heb.traineddata /usr/share/tesseract-ocr/4.00/tessdata/\n",
        "!rm -rf Mixwer\n",
        "!git clone https://github.com/EphraimElgrabli/Mixwer-ColabVersion.git\n",
        "!cd Mixwer-ColabVersion/\n",
        "!mkdir Images"
      ]
    },
    {
      "cell_type": "markdown",
      "source": [
        "## Step 2:"
      ],
      "metadata": {
        "id": "6PGEgcm-Ekxt"
      }
    },
    {
      "cell_type": "code",
      "source": [
        "#@title /--- Click The Play Button (לחץ על כפתור הפליי)\n",
        "from datetime import datetime\n",
        "from google.colab import files\n",
        "import os\n",
        "os.chdir(\"/content/Mixwer-ColabVersion\")\n",
        "import Main\n",
        "\n",
        "def download_zip(zip_path):\n",
        "    files.download(zip_path)\n",
        "\n",
        "def run_mixwer():\n",
        "    print(\"Please upload the PDF files:\")\n",
        "    uploaded = files.upload()\n",
        "    file_paths = list(uploaded.keys())\n",
        "\n",
        "    print(\"Running Mixwer...\")\n",
        "    array_paths, success_flag = Main.main(file_paths)\n",
        "\n",
        "    if success_flag:\n",
        "        current_datetime = datetime.now()\n",
        "        datetime_string = current_datetime.strftime(\"%Y-%m-%d_%H-%M-%S\")\n",
        "        zip_path = f\"Mixwer - {datetime_string}.zip\"\n",
        "\n",
        "        Main.functionalFiles.zipPdf(array_paths, zip_path)\n",
        "\n",
        "        print(f\"ZIP file created: {zip_path}\")\n",
        "        print(\"Downloading the ZIP file...\")\n",
        "\n",
        "        download_zip(zip_path)\n",
        "    else:\n",
        "        print(\"No successful PDFs processed.\")\n",
        "\n",
        "# Run the Mixwer process\n",
        "run_mixwer()"
      ],
      "metadata": {
        "id": "main_function",
        "cellView": "form"
      },
      "execution_count": null,
      "outputs": []
    }
  ]
}